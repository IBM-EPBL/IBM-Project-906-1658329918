{
 "cells": [
  {
   "cell_type": "markdown",
   "id": "c2be3524",
   "metadata": {},
   "source": [
    "# Logistic regression model"
   ]
  },
  {
   "cell_type": "code",
   "execution_count": 30,
   "id": "f8f3119e",
   "metadata": {},
   "outputs": [],
   "source": [
    "import pandas as pd \n",
    "import numpy as np \n",
    "from sklearn.preprocessing import MinMaxScaler \n",
    "from sklearn.metrics import confusion_matrix, accuracy_score\n",
    "import seaborn as sns"
   ]
  },
  {
   "cell_type": "code",
   "execution_count": 5,
   "id": "c79b253d",
   "metadata": {},
   "outputs": [
    {
     "data": {
      "text/html": [
       "<div>\n",
       "<style scoped>\n",
       "    .dataframe tbody tr th:only-of-type {\n",
       "        vertical-align: middle;\n",
       "    }\n",
       "\n",
       "    .dataframe tbody tr th {\n",
       "        vertical-align: top;\n",
       "    }\n",
       "\n",
       "    .dataframe thead th {\n",
       "        text-align: right;\n",
       "    }\n",
       "</style>\n",
       "<table border=\"1\" class=\"dataframe\">\n",
       "  <thead>\n",
       "    <tr style=\"text-align: right;\">\n",
       "      <th></th>\n",
       "      <th>SFH</th>\n",
       "      <th>popUpWidnow</th>\n",
       "      <th>SSLfinal_State</th>\n",
       "      <th>Request_URL</th>\n",
       "      <th>URL_of_Anchor</th>\n",
       "      <th>web_traffic</th>\n",
       "      <th>URL_Length</th>\n",
       "      <th>age_of_domain</th>\n",
       "      <th>having_IP_Address</th>\n",
       "      <th>Result</th>\n",
       "    </tr>\n",
       "  </thead>\n",
       "  <tbody>\n",
       "    <tr>\n",
       "      <th>0</th>\n",
       "      <td>1</td>\n",
       "      <td>-1</td>\n",
       "      <td>1</td>\n",
       "      <td>-1</td>\n",
       "      <td>-1</td>\n",
       "      <td>1</td>\n",
       "      <td>1</td>\n",
       "      <td>1</td>\n",
       "      <td>0</td>\n",
       "      <td>0</td>\n",
       "    </tr>\n",
       "    <tr>\n",
       "      <th>1</th>\n",
       "      <td>-1</td>\n",
       "      <td>-1</td>\n",
       "      <td>-1</td>\n",
       "      <td>-1</td>\n",
       "      <td>-1</td>\n",
       "      <td>0</td>\n",
       "      <td>1</td>\n",
       "      <td>1</td>\n",
       "      <td>1</td>\n",
       "      <td>1</td>\n",
       "    </tr>\n",
       "    <tr>\n",
       "      <th>2</th>\n",
       "      <td>1</td>\n",
       "      <td>-1</td>\n",
       "      <td>0</td>\n",
       "      <td>0</td>\n",
       "      <td>-1</td>\n",
       "      <td>0</td>\n",
       "      <td>-1</td>\n",
       "      <td>1</td>\n",
       "      <td>0</td>\n",
       "      <td>1</td>\n",
       "    </tr>\n",
       "    <tr>\n",
       "      <th>3</th>\n",
       "      <td>1</td>\n",
       "      <td>0</td>\n",
       "      <td>1</td>\n",
       "      <td>-1</td>\n",
       "      <td>-1</td>\n",
       "      <td>0</td>\n",
       "      <td>1</td>\n",
       "      <td>1</td>\n",
       "      <td>0</td>\n",
       "      <td>0</td>\n",
       "    </tr>\n",
       "    <tr>\n",
       "      <th>4</th>\n",
       "      <td>-1</td>\n",
       "      <td>-1</td>\n",
       "      <td>1</td>\n",
       "      <td>-1</td>\n",
       "      <td>0</td>\n",
       "      <td>0</td>\n",
       "      <td>-1</td>\n",
       "      <td>1</td>\n",
       "      <td>0</td>\n",
       "      <td>1</td>\n",
       "    </tr>\n",
       "  </tbody>\n",
       "</table>\n",
       "</div>"
      ],
      "text/plain": [
       "   SFH  popUpWidnow  SSLfinal_State  Request_URL  URL_of_Anchor  web_traffic  \\\n",
       "0    1           -1               1           -1             -1            1   \n",
       "1   -1           -1              -1           -1             -1            0   \n",
       "2    1           -1               0            0             -1            0   \n",
       "3    1            0               1           -1             -1            0   \n",
       "4   -1           -1               1           -1              0            0   \n",
       "\n",
       "   URL_Length  age_of_domain  having_IP_Address  Result  \n",
       "0           1              1                  0       0  \n",
       "1           1              1                  1       1  \n",
       "2          -1              1                  0       1  \n",
       "3           1              1                  0       0  \n",
       "4          -1              1                  0       1  "
      ]
     },
     "execution_count": 5,
     "metadata": {},
     "output_type": "execute_result"
    }
   ],
   "source": [
    "#Import Dataset\n",
    "ds= pd.read_csv(\"dataset_website.csv\") \n",
    "ds.head()"
   ]
  },
  {
   "cell_type": "code",
   "execution_count": 6,
   "id": "6f30d6cc",
   "metadata": {},
   "outputs": [
    {
     "data": {
      "text/plain": [
       "(1353, 10)"
      ]
     },
     "execution_count": 6,
     "metadata": {},
     "output_type": "execute_result"
    }
   ],
   "source": [
    "ds.shape"
   ]
  },
  {
   "cell_type": "code",
   "execution_count": 8,
   "id": "d9e75350",
   "metadata": {},
   "outputs": [
    {
     "data": {
      "text/plain": [
       "13530"
      ]
     },
     "execution_count": 8,
     "metadata": {},
     "output_type": "execute_result"
    }
   ],
   "source": [
    "ds.size"
   ]
  },
  {
   "cell_type": "code",
   "execution_count": 9,
   "id": "0af84885",
   "metadata": {},
   "outputs": [
    {
     "name": "stdout",
     "output_type": "stream",
     "text": [
      "<class 'pandas.core.frame.DataFrame'>\n",
      "RangeIndex: 1353 entries, 0 to 1352\n",
      "Data columns (total 10 columns):\n",
      " #   Column             Non-Null Count  Dtype\n",
      "---  ------             --------------  -----\n",
      " 0   SFH                1353 non-null   int64\n",
      " 1   popUpWidnow        1353 non-null   int64\n",
      " 2   SSLfinal_State     1353 non-null   int64\n",
      " 3   Request_URL        1353 non-null   int64\n",
      " 4   URL_of_Anchor      1353 non-null   int64\n",
      " 5   web_traffic        1353 non-null   int64\n",
      " 6   URL_Length         1353 non-null   int64\n",
      " 7   age_of_domain      1353 non-null   int64\n",
      " 8   having_IP_Address  1353 non-null   int64\n",
      " 9   Result             1353 non-null   int64\n",
      "dtypes: int64(10)\n",
      "memory usage: 105.8 KB\n"
     ]
    }
   ],
   "source": [
    "ds.info()"
   ]
  },
  {
   "cell_type": "code",
   "execution_count": 10,
   "id": "79525d8d",
   "metadata": {},
   "outputs": [
    {
     "data": {
      "text/html": [
       "<div>\n",
       "<style scoped>\n",
       "    .dataframe tbody tr th:only-of-type {\n",
       "        vertical-align: middle;\n",
       "    }\n",
       "\n",
       "    .dataframe tbody tr th {\n",
       "        vertical-align: top;\n",
       "    }\n",
       "\n",
       "    .dataframe thead th {\n",
       "        text-align: right;\n",
       "    }\n",
       "</style>\n",
       "<table border=\"1\" class=\"dataframe\">\n",
       "  <thead>\n",
       "    <tr style=\"text-align: right;\">\n",
       "      <th></th>\n",
       "      <th>SFH</th>\n",
       "      <th>popUpWidnow</th>\n",
       "      <th>SSLfinal_State</th>\n",
       "      <th>Request_URL</th>\n",
       "      <th>URL_of_Anchor</th>\n",
       "      <th>web_traffic</th>\n",
       "      <th>URL_Length</th>\n",
       "      <th>age_of_domain</th>\n",
       "      <th>having_IP_Address</th>\n",
       "      <th>Result</th>\n",
       "    </tr>\n",
       "  </thead>\n",
       "  <tbody>\n",
       "    <tr>\n",
       "      <th>count</th>\n",
       "      <td>1353.000000</td>\n",
       "      <td>1353.000000</td>\n",
       "      <td>1353.000000</td>\n",
       "      <td>1353.000000</td>\n",
       "      <td>1353.000000</td>\n",
       "      <td>1353.000000</td>\n",
       "      <td>1353.000000</td>\n",
       "      <td>1353.000000</td>\n",
       "      <td>1353.000000</td>\n",
       "      <td>1353.000000</td>\n",
       "    </tr>\n",
       "    <tr>\n",
       "      <th>mean</th>\n",
       "      <td>0.237990</td>\n",
       "      <td>-0.258684</td>\n",
       "      <td>0.327421</td>\n",
       "      <td>-0.223208</td>\n",
       "      <td>-0.025129</td>\n",
       "      <td>0.000000</td>\n",
       "      <td>-0.053215</td>\n",
       "      <td>0.219512</td>\n",
       "      <td>0.114560</td>\n",
       "      <td>-0.113821</td>\n",
       "    </tr>\n",
       "    <tr>\n",
       "      <th>std</th>\n",
       "      <td>0.916389</td>\n",
       "      <td>0.679072</td>\n",
       "      <td>0.822193</td>\n",
       "      <td>0.799682</td>\n",
       "      <td>0.936262</td>\n",
       "      <td>0.806776</td>\n",
       "      <td>0.762552</td>\n",
       "      <td>0.975970</td>\n",
       "      <td>0.318608</td>\n",
       "      <td>0.954773</td>\n",
       "    </tr>\n",
       "    <tr>\n",
       "      <th>min</th>\n",
       "      <td>-1.000000</td>\n",
       "      <td>-1.000000</td>\n",
       "      <td>-1.000000</td>\n",
       "      <td>-1.000000</td>\n",
       "      <td>-1.000000</td>\n",
       "      <td>-1.000000</td>\n",
       "      <td>-1.000000</td>\n",
       "      <td>-1.000000</td>\n",
       "      <td>0.000000</td>\n",
       "      <td>-1.000000</td>\n",
       "    </tr>\n",
       "    <tr>\n",
       "      <th>25%</th>\n",
       "      <td>-1.000000</td>\n",
       "      <td>-1.000000</td>\n",
       "      <td>0.000000</td>\n",
       "      <td>-1.000000</td>\n",
       "      <td>-1.000000</td>\n",
       "      <td>-1.000000</td>\n",
       "      <td>-1.000000</td>\n",
       "      <td>-1.000000</td>\n",
       "      <td>0.000000</td>\n",
       "      <td>-1.000000</td>\n",
       "    </tr>\n",
       "    <tr>\n",
       "      <th>50%</th>\n",
       "      <td>1.000000</td>\n",
       "      <td>0.000000</td>\n",
       "      <td>1.000000</td>\n",
       "      <td>0.000000</td>\n",
       "      <td>0.000000</td>\n",
       "      <td>0.000000</td>\n",
       "      <td>0.000000</td>\n",
       "      <td>1.000000</td>\n",
       "      <td>0.000000</td>\n",
       "      <td>-1.000000</td>\n",
       "    </tr>\n",
       "    <tr>\n",
       "      <th>75%</th>\n",
       "      <td>1.000000</td>\n",
       "      <td>0.000000</td>\n",
       "      <td>1.000000</td>\n",
       "      <td>0.000000</td>\n",
       "      <td>1.000000</td>\n",
       "      <td>1.000000</td>\n",
       "      <td>1.000000</td>\n",
       "      <td>1.000000</td>\n",
       "      <td>0.000000</td>\n",
       "      <td>1.000000</td>\n",
       "    </tr>\n",
       "    <tr>\n",
       "      <th>max</th>\n",
       "      <td>1.000000</td>\n",
       "      <td>1.000000</td>\n",
       "      <td>1.000000</td>\n",
       "      <td>1.000000</td>\n",
       "      <td>1.000000</td>\n",
       "      <td>1.000000</td>\n",
       "      <td>1.000000</td>\n",
       "      <td>1.000000</td>\n",
       "      <td>1.000000</td>\n",
       "      <td>1.000000</td>\n",
       "    </tr>\n",
       "  </tbody>\n",
       "</table>\n",
       "</div>"
      ],
      "text/plain": [
       "               SFH  popUpWidnow  SSLfinal_State  Request_URL  URL_of_Anchor  \\\n",
       "count  1353.000000  1353.000000     1353.000000  1353.000000    1353.000000   \n",
       "mean      0.237990    -0.258684        0.327421    -0.223208      -0.025129   \n",
       "std       0.916389     0.679072        0.822193     0.799682       0.936262   \n",
       "min      -1.000000    -1.000000       -1.000000    -1.000000      -1.000000   \n",
       "25%      -1.000000    -1.000000        0.000000    -1.000000      -1.000000   \n",
       "50%       1.000000     0.000000        1.000000     0.000000       0.000000   \n",
       "75%       1.000000     0.000000        1.000000     0.000000       1.000000   \n",
       "max       1.000000     1.000000        1.000000     1.000000       1.000000   \n",
       "\n",
       "       web_traffic   URL_Length  age_of_domain  having_IP_Address       Result  \n",
       "count  1353.000000  1353.000000    1353.000000        1353.000000  1353.000000  \n",
       "mean      0.000000    -0.053215       0.219512           0.114560    -0.113821  \n",
       "std       0.806776     0.762552       0.975970           0.318608     0.954773  \n",
       "min      -1.000000    -1.000000      -1.000000           0.000000    -1.000000  \n",
       "25%      -1.000000    -1.000000      -1.000000           0.000000    -1.000000  \n",
       "50%       0.000000     0.000000       1.000000           0.000000    -1.000000  \n",
       "75%       1.000000     1.000000       1.000000           0.000000     1.000000  \n",
       "max       1.000000     1.000000       1.000000           1.000000     1.000000  "
      ]
     },
     "execution_count": 10,
     "metadata": {},
     "output_type": "execute_result"
    }
   ],
   "source": [
    "ds.describe()"
   ]
  },
  {
   "cell_type": "code",
   "execution_count": null,
   "id": "369bbeee",
   "metadata": {},
   "outputs": [],
   "source": [
    "# Handling Null Values\n",
    "# Checking for Null values in a dataset and handling if any"
   ]
  },
  {
   "cell_type": "code",
   "execution_count": 11,
   "id": "883e806f",
   "metadata": {},
   "outputs": [
    {
     "data": {
      "text/plain": [
       "SFH                  False\n",
       "popUpWidnow          False\n",
       "SSLfinal_State       False\n",
       "Request_URL          False\n",
       "URL_of_Anchor        False\n",
       "web_traffic          False\n",
       "URL_Length           False\n",
       "age_of_domain        False\n",
       "having_IP_Address    False\n",
       "Result               False\n",
       "dtype: bool"
      ]
     },
     "execution_count": 11,
     "metadata": {},
     "output_type": "execute_result"
    }
   ],
   "source": [
    "ds.isnull().any()"
   ]
  },
  {
   "cell_type": "code",
   "execution_count": 12,
   "id": "c7b3bca9",
   "metadata": {},
   "outputs": [
    {
     "data": {
      "text/plain": [
       "SFH                  0\n",
       "popUpWidnow          0\n",
       "SSLfinal_State       0\n",
       "Request_URL          0\n",
       "URL_of_Anchor        0\n",
       "web_traffic          0\n",
       "URL_Length           0\n",
       "age_of_domain        0\n",
       "having_IP_Address    0\n",
       "Result               0\n",
       "dtype: int64"
      ]
     },
     "execution_count": 12,
     "metadata": {},
     "output_type": "execute_result"
    }
   ],
   "source": [
    "ds.isnull().sum()"
   ]
  },
  {
   "cell_type": "markdown",
   "id": "d61453e5",
   "metadata": {},
   "source": [
    "# Splitting The Data"
   ]
  },
  {
   "cell_type": "code",
   "execution_count": 13,
   "id": "aa3a8583",
   "metadata": {},
   "outputs": [],
   "source": [
    "#Splitting data into independent and dependent variables"
   ]
  },
  {
   "cell_type": "code",
   "execution_count": 15,
   "id": "c333db87",
   "metadata": {},
   "outputs": [],
   "source": [
    "x=ds.iloc[:,1:31].values\n",
    "y=ds.iloc[:,-1].values"
   ]
  },
  {
   "cell_type": "code",
   "execution_count": 16,
   "id": "85c5cfee",
   "metadata": {},
   "outputs": [
    {
     "name": "stdout",
     "output_type": "stream",
     "text": [
      "[[-1  1 -1 ...  1  0  0]\n",
      " [-1 -1 -1 ...  1  1  1]\n",
      " [-1  0  0 ...  1  0  1]\n",
      " ...\n",
      " [ 0 -1 -1 ... -1  0  1]\n",
      " [ 0  1  0 ...  1  0  1]\n",
      " [ 0  1  1 ... -1  0 -1]]\n"
     ]
    }
   ],
   "source": [
    "print(x)"
   ]
  },
  {
   "cell_type": "code",
   "execution_count": 17,
   "id": "e0fbb026",
   "metadata": {},
   "outputs": [
    {
     "name": "stdout",
     "output_type": "stream",
     "text": [
      "[ 0  1  1 ...  1  1 -1]\n"
     ]
    }
   ],
   "source": [
    "print(y)"
   ]
  },
  {
   "cell_type": "code",
   "execution_count": 18,
   "id": "ed86fc70",
   "metadata": {},
   "outputs": [],
   "source": [
    "# splitting data into train and test"
   ]
  },
  {
   "cell_type": "code",
   "execution_count": 19,
   "id": "38de1c0f",
   "metadata": {},
   "outputs": [],
   "source": [
    "from sklearn.model_selection import train_test_split\n",
    "x_train,x_test,y_train,y_test=train_test_split(x,y,test_size=0.2,random_state=0)"
   ]
  },
  {
   "cell_type": "markdown",
   "id": "32179750",
   "metadata": {},
   "source": [
    "# MODEL BUILDING"
   ]
  },
  {
   "cell_type": "code",
   "execution_count": 20,
   "id": "72dd7d2b",
   "metadata": {},
   "outputs": [],
   "source": [
    "from sklearn.metrics import accuracy_score, classification_report"
   ]
  },
  {
   "cell_type": "code",
   "execution_count": 21,
   "id": "ec93c039",
   "metadata": {},
   "outputs": [],
   "source": [
    "# Decision Tree"
   ]
  },
  {
   "cell_type": "code",
   "execution_count": 22,
   "id": "3ca290b4",
   "metadata": {},
   "outputs": [],
   "source": [
    "from sklearn.tree import DecisionTreeClassifier\n",
    "\n",
    "dt=DecisionTreeClassifier()\n",
    "\n",
    "dt.fit(x_train,y_train)\n",
    "prediction_dt = dt.predict(x_test)\n",
    "\n",
    "accuracy_dt = accuracy_score(y_test,prediction_dt)*100\n",
    "scores_dict = {}"
   ]
  },
  {
   "cell_type": "code",
   "execution_count": 23,
   "id": "162662ea",
   "metadata": {},
   "outputs": [
    {
     "name": "stdout",
     "output_type": "stream",
     "text": [
      "Accuracy score :  100.0\n",
      "              precision    recall  f1-score   support\n",
      "\n",
      "          -1       1.00      1.00      1.00       137\n",
      "           0       1.00      1.00      1.00        21\n",
      "           1       1.00      1.00      1.00       113\n",
      "\n",
      "    accuracy                           1.00       271\n",
      "   macro avg       1.00      1.00      1.00       271\n",
      "weighted avg       1.00      1.00      1.00       271\n",
      "\n"
     ]
    }
   ],
   "source": [
    "print('Accuracy score : ',accuracy_dt)\n",
    "scores_dict['DecisionTreeClassifier'] = accuracy_dt\n",
    "print(classification_report(y_test,prediction_dt))"
   ]
  },
  {
   "cell_type": "code",
   "execution_count": 24,
   "id": "2a5ae0fd",
   "metadata": {},
   "outputs": [
    {
     "data": {
      "text/plain": [
       "array([0., 0., 0., 0., 0., 0., 0., 0., 1.])"
      ]
     },
     "execution_count": 24,
     "metadata": {},
     "output_type": "execute_result"
    }
   ],
   "source": [
    "dt.feature_importances_"
   ]
  },
  {
   "cell_type": "code",
   "execution_count": 25,
   "id": "3a1aeb05",
   "metadata": {},
   "outputs": [],
   "source": [
    "# Logistic Regression"
   ]
  },
  {
   "cell_type": "code",
   "execution_count": 26,
   "id": "43ce20a2",
   "metadata": {},
   "outputs": [
    {
     "data": {
      "text/plain": [
       "LogisticRegression()"
      ]
     },
     "execution_count": 26,
     "metadata": {},
     "output_type": "execute_result"
    }
   ],
   "source": [
    "from sklearn.linear_model import LogisticRegression\n",
    "lr=LogisticRegression()\n",
    "lr.fit(x_train,y_train)"
   ]
  },
  {
   "cell_type": "code",
   "execution_count": 27,
   "id": "f81b45c7",
   "metadata": {},
   "outputs": [
    {
     "data": {
      "text/plain": [
       "100.0"
      ]
     },
     "execution_count": 27,
     "metadata": {},
     "output_type": "execute_result"
    }
   ],
   "source": [
    "y_pred1=lr.predict(x_test)\n",
    "from sklearn.metrics import accuracy_score\n",
    "log_reg=accuracy_score(y_test,y_pred1)*100\n",
    "log_reg"
   ]
  },
  {
   "cell_type": "code",
   "execution_count": 28,
   "id": "2dcdb01d",
   "metadata": {},
   "outputs": [],
   "source": [
    "scores_dict['LogisticRegression'] = log_reg"
   ]
  },
  {
   "cell_type": "code",
   "execution_count": 31,
   "id": "1c926b3c",
   "metadata": {},
   "outputs": [
    {
     "data": {
      "image/png": "[encoded data removed]",
      "text/plain": [
       "<Figure size 892.8x468 with 1 Axes>"
      ]
     },
     "metadata": {},
     "output_type": "display_data"
    }
   ],
   "source": [
    "algo_name = list(scores_dict.keys())\n",
    "accuracy_list = list(scores_dict.values())\n",
    "\n",
    "sns.set(rc={'figure.figsize':(12.4,6.5)})\n",
    "with sns.color_palette('muted'):\n",
    "    sns.barplot(x=algo_name,y=accuracy_list)"
   ]
  },
  {
   "cell_type": "code",
   "execution_count": null,
   "id": "4ad1dc98",
   "metadata": {},
   "outputs": [],
   "source": []
  }
 ],
 "metadata": {
  "kernelspec": {
   "display_name": "Python 3 (ipykernel)",
   "language": "python",
   "name": "python3"
  },
  "language_info": {
   "codemirror_mode": {
    "name": "ipython",
    "version": 3
   },
   "file_extension": ".py",
   "mimetype": "text/x-python",
   "name": "python",
   "nbconvert_exporter": "python",
   "pygments_lexer": "ipython3",
   "version": "3.9.12"
  }
 },
 "nbformat": 4,
 "nbformat_minor": 5
}
